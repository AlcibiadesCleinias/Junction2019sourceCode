{
 "cells": [
  {
   "cell_type": "code",
   "execution_count": 1,
   "metadata": {},
   "outputs": [],
   "source": [
    "from tinydb import TinyDB, Query"
   ]
  },
  {
   "cell_type": "code",
   "execution_count": 79,
   "metadata": {},
   "outputs": [
    {
     "data": {
      "text/plain": [
       "10"
      ]
     },
     "execution_count": 79,
     "metadata": {},
     "output_type": "execute_result"
    }
   ],
   "source": [
    "db = TinyDB('/home/sergey.miller/research/data/example.db')\n",
    "db.insert({'int': 1, 'data': {'a': 1, 'b':'2'}})\n",
    "db.insert({'int': 2, 'data': {'c': 3, 'd':'4'}})"
   ]
  },
  {
   "cell_type": "code",
   "execution_count": 80,
   "metadata": {},
   "outputs": [
    {
     "data": {
      "text/plain": [
       "[{'data': {'d': '4', 'e': 4}, 'int': 2},\n",
       " {'data': {'d': '4', 'e': 4}, 'int': 2},\n",
       " {'data': {'c': 3, 'd': '4'}, 'int': 2}]"
      ]
     },
     "execution_count": 80,
     "metadata": {},
     "output_type": "execute_result"
    }
   ],
   "source": [
    "User = Query()\n",
    "db.search(User.int == 2)"
   ]
  },
  {
   "cell_type": "code",
   "execution_count": 81,
   "metadata": {},
   "outputs": [
    {
     "name": "stdout",
     "output_type": "stream",
     "text": [
      "10\n"
     ]
    }
   ],
   "source": [
    "print(len(db))"
   ]
  },
  {
   "cell_type": "code",
   "execution_count": 6,
   "metadata": {},
   "outputs": [
    {
     "data": {
      "text/plain": [
       "<TinyDB tables=['_default'], tables_count=1, default_table_documents_count=2, all_tables_documents_count=['_default=2']>"
      ]
     },
     "execution_count": 6,
     "metadata": {},
     "output_type": "execute_result"
    }
   ],
   "source": []
  },
  {
   "cell_type": "code",
   "execution_count": 18,
   "metadata": {},
   "outputs": [
    {
     "data": {
      "text/plain": [
       "[6, 8]"
      ]
     },
     "execution_count": 18,
     "metadata": {},
     "output_type": "execute_result"
    }
   ],
   "source": [
    "db.insert\n",
    "db.update({'data': {'e': 4, 'd': '4'}, 'int': 2}, User.int == 2)"
   ]
  },
  {
   "cell_type": "code",
   "execution_count": 19,
   "metadata": {},
   "outputs": [
    {
     "data": {
      "text/plain": [
       "<TinyDB tables=['_default'], tables_count=1, default_table_documents_count=8, all_tables_documents_count=['_default=8']>"
      ]
     },
     "execution_count": 19,
     "metadata": {},
     "output_type": "execute_result"
    }
   ],
   "source": [
    "db"
   ]
  },
  {
   "cell_type": "code",
   "execution_count": 151,
   "metadata": {},
   "outputs": [],
   "source": [
    "import numpy as np\n",
    "import pandas as pd\n",
    "import json\n",
    "import time\n",
    "import requests\n",
    "import tqdm\n",
    "import kalman\n",
    "\n",
    "from os import listdir\n",
    "from os.path import isfile, join\n",
    "\n",
    "\n",
    "from IPython.display import clear_output\n",
    "from collections import defaultdict\n",
    "\n",
    "from tinydb import TinyDB, Query\n",
    "\n",
    "import matplotlib.pyplot as plt\n",
    "%matplotlib inline"
   ]
  },
  {
   "cell_type": "code",
   "execution_count": 30,
   "metadata": {},
   "outputs": [],
   "source": [
    "def parse_item(j):\n",
    "    mac = j['notifications'][0]['apMacAddress']\n",
    "    x = float(j['notifications'][0]['locationCoordinate']['x'])\n",
    "    y = float(j['notifications'][0]['locationCoordinate']['y'])\n",
    "    z = int(j['notifications'][0]['hierarchyDetails']['floor']['name'].replace('krs', '').replace(' ', '').replace('-', ''))\n",
    "    event_id = j['notifications'][0]['eventId']\n",
    "    latitude = float(j['notifications'][0]['geoCoordinate']['latitude'])\n",
    "    longitude = float(j['notifications'][0]['geoCoordinate']['longitude'])\n",
    "    timestamp = int(j['notifications'][0]['timestamp'])\n",
    "    confidence = float(j['notifications'][0]['confidenceFactor'])\n",
    "    return [\n",
    "        x,  # 0\n",
    "        y,  # 1\n",
    "        z,  # 2\n",
    "        latitude,  # 3\n",
    "        longitude,  # 4\n",
    "        timestamp,  # 5\n",
    "        mac,  # 6\n",
    "        event_id,  # 7\n",
    "        confidence  # 8\n",
    "    ]"
   ]
  },
  {
   "cell_type": "code",
   "execution_count": 242,
   "metadata": {},
   "outputs": [],
   "source": [
    "def looks_bad(path):\n",
    "    for i,p in enumerate(path[:-1]):\n",
    "        if abs(p[3] - path[i+1][3]) > 0.00025 or abs(p[4] - path[i+1][4]) > 0.001:\n",
    "            return True\n",
    "    return False\n",
    "\n",
    "def filter_f(x):\n",
    "    return x[3] > 0 and 24.830 > x[4] > 0 and len(x[6]) > 0 and x[6] != 'NOT APPLICABLE'"
   ]
  },
  {
   "cell_type": "code",
   "execution_count": 32,
   "metadata": {},
   "outputs": [],
   "source": [
    "def try_fix(line):\n",
    "    line = line.strip()\n",
    "    if line[-1] == ',':\n",
    "        line = line[:-1]\n",
    "    if line[0] == '{':\n",
    "        line = '[\\n' + line\n",
    "    if line[-1] == '}':\n",
    "        line = line + ']'\n",
    "    if line[:4] == '[\\n[\\n':\n",
    "        line = line[2:]\n",
    "    return line.replace(']\\n[\\n', ',\\n').replace(']\\n{', ',\\n{').replace('}{', '}\\n{').replace('}\\n{', '},\\n{')"
   ]
  },
  {
   "cell_type": "code",
   "execution_count": 305,
   "metadata": {},
   "outputs": [],
   "source": [
    "def update_prediction(table, mac, p, horizon=10 * 1000):\n",
    "    p = np.array(p, dtype=np.object)\n",
    "    sample =  p[:, np.array([3,4,2])]\n",
    "    ts = p[:, 5].reshape(-1, 1)\n",
    "    vel = (sample[1:] - sample[:-1]) / (ts[1:] - ts[:-1] + 1e-9) * (ts[1:] - ts[:-1] > 1e-9)\n",
    "    X = np.concatenate([sample.reshape(-1), vel.reshape(-1)]).reshape(1, -1)\n",
    "    Y_pred = predict_with_model(X)[0]\n",
    "    \n",
    "    \n",
    "\n",
    "    if mac not in KALMAN:\n",
    "        KALMAN[mac] = kalman.TimeSmoother(sample[-1], vel[-1], ts[-1])\n",
    "    state = np.array(np.concatenate([sample[-1], vel[-1]]), dtype=float)\n",
    "    KALMAN[mac].kalman_update(ts[-1], state, Y_pred)\n",
    "\n",
    "    new_info = {'pred': ','.join(map(str,list(Y_pred))), \n",
    "                'for_ts': int(p[-1][5]) + horizon, \n",
    "                'mac': mac, \n",
    "                'kalman_mu': ','.join(map(str,list(KALMAN[mac].car_kalman.kalman.mu)))}\n",
    "    q = Query()\n",
    "    r = table.search(q.mac == mac)\n",
    "    if len(r) == 0:\n",
    "        table.insert(new_info)\n",
    "    else:\n",
    "        table.update(new_info, q.mac == mac)\n",
    "    return (Y_pred[0], Y_pred[1], mac)"
   ]
  },
  {
   "cell_type": "code",
   "execution_count": 286,
   "metadata": {},
   "outputs": [],
   "source": [
    "db = TinyDB('/home/sergey.miller/research/data/prod.db')\n",
    "track_table = db.table('tracks')"
   ]
  },
  {
   "cell_type": "code",
   "execution_count": 325,
   "metadata": {},
   "outputs": [],
   "source": [
    "db.purge_tables()"
   ]
  },
  {
   "cell_type": "code",
   "execution_count": 288,
   "metadata": {},
   "outputs": [],
   "source": [
    "import pickle"
   ]
  },
  {
   "cell_type": "code",
   "execution_count": 100,
   "metadata": {},
   "outputs": [],
   "source": [
    "with open('data/model_KNN_100_L1.pickle','rb') as f:\n",
    "    models = pickle.load(f)"
   ]
  },
  {
   "cell_type": "code",
   "execution_count": 102,
   "metadata": {},
   "outputs": [],
   "source": [
    "X_normalizer, Y_normalizer, model = models"
   ]
  },
  {
   "cell_type": "code",
   "execution_count": 106,
   "metadata": {},
   "outputs": [],
   "source": [
    "def predict_with_model(x):\n",
    "    return Y_normalizer.inverse_transform(model.predict(X_normalizer.transform(x)))"
   ]
  },
  {
   "cell_type": "code",
   "execution_count": 326,
   "metadata": {},
   "outputs": [],
   "source": [
    "KALMAN = dict()"
   ]
  },
  {
   "cell_type": "code",
   "execution_count": 327,
   "metadata": {},
   "outputs": [],
   "source": [
    "my_pos = [60.185469, 24.824695]"
   ]
  },
  {
   "cell_type": "code",
   "execution_count": null,
   "metadata": {
    "scrolled": true
   },
   "outputs": [
    {
     "name": "stdout",
     "output_type": "stream",
     "text": [
      "need mac  [(60.18557317349813, 24.82455965068471, '00:fc:ba:91:1c:80'), (60.185556150886406, 24.824553431088926, '00:fc:ba:91:1c:80'), (60.18557136422062, 24.824552594089166, '00:fc:ba:91:1c:80'), (60.185564781490065, 24.82457673150946, '00:fc:ba:91:1c:80'), (60.18545783123105, 24.824681658127414, '00:fc:ba:91:1c:80'), (60.185544149235426, 24.824554285599273, '00:fc:ba:91:1c:80'), (60.18557018997456, 24.824553319203314, '00:fc:ba:91:1c:80'), (60.185564781490065, 24.82457673150946, '00:fc:ba:91:1c:80'), (60.185451588547245, 24.824666555471918, '00:fc:ba:91:1c:80')]\n"
     ]
    },
    {
     "data": {
      "image/png": "[encoded data removed]",
      "text/plain": [
       "<Figure size 2160x1080 with 1 Axes>"
      ]
     },
     "metadata": {},
     "output_type": "display_data"
    },
    {
     "name": "stdout",
     "output_type": "stream",
     "text": [
      "351\n",
      "352\n"
     ]
    }
   ],
   "source": [
    "paths = defaultdict(list)\n",
    "ticks = 0\n",
    "delta = 0.1\n",
    "ticks = 0\n",
    "\n",
    "preds = []\n",
    "\n",
    "while True:\n",
    "    ticks += 1\n",
    "    print(ticks)\n",
    "    time.sleep(delta)\n",
    "    if ticks % (5) == 0 and len(preds) > 0:\n",
    "#         preds = sorted(preds, key=lambda x: (x[0] - my_pos[0]) ** 2 + (x[1] - my_pos[1]) ** 2)[:50\n",
    "        clear_output()\n",
    "        plt.figure(figsize=(30,15))\n",
    "#         for m in paths:\n",
    "#             plt.plot([x[3] for x in paths[m]], [x[4] for x in paths[m]], '.-', alpha=0.5)\n",
    "        plt.plot([x[0] for x in preds], [x[1] for x in preds], '*', alpha=1)\n",
    "        plt.scatter([my_pos[0]], [my_pos[1]],s=[500],color='red')\n",
    "        pos = [x for x in preds if x[2] in ['00:fc:ba:91:1c:80']]\n",
    "        print('need mac ', pos)\n",
    "        if len(pos) > 0:\n",
    "            plt.scatter([x[0] for x in pos], [x[1] for x in pos],s=[500] * len(pos),color='green')\n",
    "        plt.xticks([])\n",
    "        plt.yticks([])\n",
    "        plt.show()\n",
    "        preds = []\n",
    "\n",
    "    try:\n",
    "        r = requests.get(\"http://13.48.149.61:8000/notifycache.json\",verify=False)\n",
    "#         r = requests.get(\"http://13.48.149.61:8000/notify.json\",verify=False)\n",
    "        \n",
    "        s = json.loads(try_fix(r.content.decode('utf-8')))\n",
    "        items = np.array([parse_item(x) for x in s], dtype=np.object)\n",
    "        for it in items:\n",
    "            if filter_f(it):\n",
    "                ts, mac = it[5], it[6]\n",
    "                if mac in paths:\n",
    "                    last_ts = paths[mac][-1][5]\n",
    "                    paths[mac] = paths[mac][-3:]\n",
    "                else:\n",
    "                    last_ts = 0\n",
    "                if ts - last_ts >= 10 * 1000:\n",
    "                    paths[mac] = list()\n",
    "                paths[mac].append(it)\n",
    "                if len(paths[mac]) == 4:\n",
    "                    next_pt = update_prediction(track_table, mac, paths[mac])\n",
    "                    preds.append(next_pt)\n",
    "    except Exception as e:\n",
    "#         pass\n",
    "        print(e)\n",
    "#         l = r.content.decode('utf-8')\n",
    "#         print(l)\n",
    "#         print('*******************')\n",
    "#         print(try_fix(l))\n",
    "#         break"
   ]
  },
  {
   "cell_type": "code",
   "execution_count": 23,
   "metadata": {},
   "outputs": [],
   "source": []
  },
  {
   "cell_type": "code",
   "execution_count": 77,
   "metadata": {},
   "outputs": [
    {
     "data": {
      "text/plain": [
       "0"
      ]
     },
     "execution_count": 77,
     "metadata": {},
     "output_type": "execute_result"
    }
   ],
   "source": [
    "len(track_table)"
   ]
  },
  {
   "cell_type": "code",
   "execution_count": null,
   "metadata": {},
   "outputs": [],
   "source": []
  }
 ],
 "metadata": {
  "kernelspec": {
   "display_name": "Python 3",
   "language": "python",
   "name": "python3"
  },
  "language_info": {
   "codemirror_mode": {
    "name": "ipython",
    "version": 3
   },
   "file_extension": ".py",
   "mimetype": "text/x-python",
   "name": "python",
   "nbconvert_exporter": "python",
   "pygments_lexer": "ipython3",
   "version": "3.5.2"
  }
 },
 "nbformat": 4,
 "nbformat_minor": 4
}
